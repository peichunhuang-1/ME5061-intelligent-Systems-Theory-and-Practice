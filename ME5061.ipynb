{
 "cells": [
  {
   "cell_type": "markdown",
   "metadata": {},
   "source": [
    "建立一個與論文相似的GA-CNN架構網路"
   ]
  },
  {
   "cell_type": "markdown",
   "metadata": {},
   "source": [
    "首先將需要的套件導入。"
   ]
  },
  {
   "cell_type": "code",
   "execution_count": 41,
   "metadata": {},
   "outputs": [],
   "source": [
    "from tensorflow.keras import layers\n",
    "from tensorflow.keras.layers import Conv2D\n",
    "from tensorflow.keras.models import Model\n",
    "from tensorflow.keras.utils import plot_model\n",
    "import numpy as np\n"
   ]
  },
  {
   "cell_type": "markdown",
   "metadata": {},
   "source": [
    "定義需要的超參數"
   ]
  },
  {
   "cell_type": "code",
   "execution_count": 42,
   "metadata": {},
   "outputs": [],
   "source": [
    "KERNEL_SIZES = (3,3)\n",
    "FILTER_NUMDERS = (32,64)\n",
    "POOLING_SIZES = ((2,2),(2,2))\n",
    "STAGES_NEURONS = (3,4)\n",
    "STAGE_NUM = 2\n",
    "INPUT_SIZE = (32,32,3)\n",
    "OUTPUT_NUM = 10\n",
    "\n",
    "\n",
    "optimizer = 'adam'\n",
    "loss = 'categorical_crossentropy'\n",
    "metrics = ['accuracy']\n",
    "epoch = 10\n",
    "batch_size = 128\n",
    "generation = 3\n",
    "pm = 0.1\n",
    "pc = 0.6\n",
    "qm = 0.5\n",
    "qc = 0.05"
   ]
  },
  {
   "cell_type": "markdown",
   "metadata": {},
   "source": [
    "定義幾個類別包裝必要的參數與函式。"
   ]
  },
  {
   "cell_type": "code",
   "execution_count": 43,
   "metadata": {},
   "outputs": [],
   "source": [
    "\n",
    "class GA_CNN_neuron():\n",
    "    def __init__(self, filter,  kernel):\n",
    "        self.input_neurons = []\n",
    "        self.output_neurons = []\n",
    "        self.input = None\n",
    "        self.output = None\n",
    "        self.Conv_layer = Conv2D(filter, kernel,padding='same')\n",
    "\n",
    "class GA_CNN_stage():\n",
    "    def __init__(self, input_size, input = None):\n",
    "        self.hidden_neurons = []\n",
    "        self.input_neuron = None\n",
    "        self.output_neuron = None\n",
    "        self.n_num = 0\n",
    "        if (input != None):\n",
    "            self.input = input\n",
    "        else:\n",
    "            self.input = layers.Input(input_size)\n",
    "\n",
    "    def create_hidden_structure(self, neuron_num, filter, kernel):\n",
    "        self.input_neuron = Conv2D(filter, kernel,padding='same')\n",
    "        for i in range(neuron_num):\n",
    "            self.hidden_neurons.append(GA_CNN_neuron(filter, kernel))\n",
    "        self.n_num = neuron_num\n",
    "\n",
    "    def link_connection(self, encoded_bits):\n",
    "        code_list = encoded_bits.split('-')\n",
    "        if (len(code_list) != self.n_num-1):\n",
    "            print(\"Error: Incorresponding size of encoded bits to neuron number\")\n",
    "            return \n",
    "        for bits_index in range(self.n_num-1):\n",
    "            bit_num = 0\n",
    "            for bit in code_list[bits_index]:\n",
    "                if (int(bit) == 1):\n",
    "                    self.hidden_neurons[bits_index+1].input_neurons.append(bit_num)\n",
    "                    self.hidden_neurons[bit_num].output_neurons.append(bits_index+1)\n",
    "                bit_num += 1\n",
    "        for neuron in self.hidden_neurons:\n",
    "            if (neuron.input_neurons == []):\n",
    "                neuron.input_neurons.append(-1)\n",
    "            if (neuron.output_neurons == []):\n",
    "                neuron.output_neurons.append(self.n_num)\n",
    "        for n in self.hidden_neurons:\n",
    "            input = []\n",
    "            for i in n.input_neurons:\n",
    "                if (i == -1):\n",
    "                    n.input = self.input_neuron(self.input)\n",
    "                    break\n",
    "                else:\n",
    "                    if (type(input) == list):\n",
    "                        input = self.hidden_neurons[i].output\n",
    "                    else:\n",
    "                        input = layers.Concatenate()([input,self.hidden_neurons[i].output])\n",
    "                n.input = input\n",
    "            n.output = n.Conv_layer(n.input)\n",
    "\n",
    "    def end_connection(self, filter,kernel, pooling):\n",
    "        output = []\n",
    "        for n in self.hidden_neurons:\n",
    "            if (n.output_neurons[-1] == self.n_num):\n",
    "                if (type(output) == list):\n",
    "                    output = n.output\n",
    "                else:\n",
    "                    output = layers.Concatenate()([output,n.output])\n",
    "        pool = layers.Conv2D(filter, kernel,padding='same')(output)\n",
    "        self.output_neuron = layers.MaxPool2D(pooling)(pool)\n",
    "\n",
    "\n",
    "class GA_CNN():\n",
    "    def __init__(self):\n",
    "        self.model = None\n",
    "    def create_network(self, stages_number, stages_neuron_num, genes, poolings_size, filters_num, kernels_size, _input_size):\n",
    "        model_stages = []\n",
    "        for i in  range(stages_number):\n",
    "            if (i == 0):\n",
    "                current_stage = GA_CNN_stage(_input_size)\n",
    "                current_stage.create_hidden_structure(stages_neuron_num[i], filters_num[i], kernels_size[i])\n",
    "            else:\n",
    "                current_stage = GA_CNN_stage(model_stages[i-1].output_neuron.shape[1:],model_stages[i-1].output_neuron)\n",
    "                current_stage.create_hidden_structure(stages_neuron_num[i], filters_num[i], kernels_size[i])\n",
    "            current_stage.link_connection(genes[i])\n",
    "            current_stage.end_connection(filters_num[i], kernels_size[i],poolings_size[i])\n",
    "            model_stages.append(current_stage)\n",
    "        flatten = layers.Flatten()(model_stages[-1].output_neuron)\n",
    "        output = layers.Dense(OUTPUT_NUM,'softmax')(flatten)\n",
    "        return Model(model_stages[0].input, output)\n",
    "\n"
   ]
  },
  {
   "cell_type": "markdown",
   "metadata": {},
   "source": [
    "測試我們的類別是否運作如預期。"
   ]
  },
  {
   "cell_type": "code",
   "execution_count": 44,
   "metadata": {},
   "outputs": [
    {
     "data": {
      "image/png": "[encoded data removed]",
      "text/plain": [
       "<IPython.core.display.Image object>"
      ]
     },
     "execution_count": 44,
     "metadata": {},
     "output_type": "execute_result"
    }
   ],
   "source": [
    "GA_MODEL = GA_CNN()\n",
    "plot_model(GA_MODEL.create_network(2,[3,4],['1-11','1-01-101'],[(2,2),(2,2)],[32,64],[3,3],(32,32,3)))\n"
   ]
  },
  {
   "cell_type": "markdown",
   "metadata": {},
   "source": [
    "加入GA的部分，論文中使用的是二進制的加密，在crossover的部分基礎單元為一個stage。在此先定義我們的一個完整基因序應該如何表達stages之間的分別，論文中，一個stage內會以\"-\"分隔來代表單一神經元的連結情況，而不同的stage之間並無特別提及，我們以\"/\"來做分隔。我們的實驗以兩個stage進行，所以範例的基因片段為\"0-00-000/0-00-000-000\"。"
   ]
  },
  {
   "cell_type": "markdown",
   "metadata": {},
   "source": [
    "輪盤的部分與課堂的並無差異，均以分數作為評判選擇母代。"
   ]
  },
  {
   "cell_type": "code",
   "execution_count": 45,
   "metadata": {},
   "outputs": [],
   "source": [
    "def roulette_selection(pop: list, scores: list, n: int):\n",
    "    # compute the sum of fitness\n",
    "    fitness_total = float(sum(scores))\n",
    "    # compute probability of fitness\n",
    "    fitness_prob = [f / fitness_total for f in scores]\n",
    "    # compute cumulative probability of fitness\n",
    "    fitness_cum_prob = [sum(fitness_prob[: i + 1]) for i in range(len(fitness_prob))]\n",
    "    # list of selected parents\n",
    "    pop_selected = []\n",
    "    for _ in range(n):\n",
    "        r = np.random.uniform()\n",
    "        for i, p in enumerate(pop):\n",
    "            if r <= fitness_cum_prob[i]:\n",
    "                pop_selected.append(p)\n",
    "                break\n",
    "    return pop_selected"
   ]
  },
  {
   "cell_type": "code",
   "execution_count": 46,
   "metadata": {},
   "outputs": [
    {
     "name": "stdout",
     "output_type": "stream",
     "text": [
      "loop 1:  ['0-10/0-10-000/1-11-111-0000', '1-01/1-01-111/1-11-111-1111']\n",
      "loop 2:  ['1-01/1-01-111/1-11-111-1111', '1-01/1-01-111/1-11-111-1111']\n",
      "loop 3:  ['0-10/0-10-000/1-11-111-0000', '1-01/1-01-111/1-11-111-1111']\n",
      "loop 4:  ['1-01/1-01-111/1-11-111-1111', '0-11/1-00-111/1-10-101-1111']\n",
      "loop 5:  ['1-01/1-01-111/1-11-111-1111', '0-10/0-10-000/1-11-111-0000']\n",
      "loop 6:  ['1-01/1-01-111/1-11-111-1111', '1-01/1-01-111/1-11-111-1111']\n",
      "loop 7:  ['1-01/1-01-111/1-11-111-1111', '0-10/0-10-000/1-11-111-0000']\n",
      "loop 8:  ['0-11/1-00-111/1-10-101-1111', '1-01/1-01-111/1-11-111-1111']\n",
      "loop 9:  ['0-10/0-10-000/1-11-111-0000', '0-10/0-10-000/1-11-111-0000']\n",
      "loop 10:  ['1-01/1-01-111/1-11-111-1111', '1-01/1-01-111/1-11-111-1111']\n"
     ]
    }
   ],
   "source": [
    "p1 = \"1-01/1-01-111/1-11-111-1111\"\n",
    "p2 = \"0-10/0-10-000/1-11-111-0000\"\n",
    "p3 = \"0-11/1-00-111/1-10-101-1111\"\n",
    "scores = [1.0, 0.6, 0.1]\n",
    "for i in range(10):\n",
    "    p = roulette_selection([p1,p2,p3], scores,2)\n",
    "    print(f'loop {i+1}: ',p)"
   ]
  },
  {
   "cell_type": "markdown",
   "metadata": {},
   "source": [
    "crossover的部分需要對基因以\"/\"分割，而我們的基因為兩段stage，所以交配會影響的只有stage的搭配，內部的結構只會由突變改變。"
   ]
  },
  {
   "cell_type": "code",
   "execution_count": 47,
   "metadata": {},
   "outputs": [],
   "source": [
    "def crossover(p1: str, p2: str, pc: float):\n",
    "    # children are copies of parents by default\n",
    "    s1, s2 = p1.split('/'), p2.split('/')\n",
    "    c1, c2 = p1, p2\n",
    "    # check for recombination\n",
    "    if np.random.rand() < pc:\n",
    "        # select crossover point that is not on the end of the string\n",
    "        pt = np.random.randint(len(s1)-1)\n",
    "        print(pt)\n",
    "        # perform crossover\n",
    "        c1 = s1[:pt] + s2[pt:]\n",
    "        c2 = s2[:pt] + s1[pt:]\n",
    "    return \"/\".join(c1), \"/\".join(c2)"
   ]
  },
  {
   "cell_type": "code",
   "execution_count": 48,
   "metadata": {},
   "outputs": [
    {
     "name": "stdout",
     "output_type": "stream",
     "text": [
      "0\n",
      "1-01/1-01-111/1-11-111-1111 0-10/0-10-000/1-11-111-0000\n",
      "0-10/0-10-000/1-11-111-0000 1-01/1-01-111/1-11-111-1111\n"
     ]
    }
   ],
   "source": [
    "p1 = \"1-01/1-01-111/1-11-111-1111\"\n",
    "p2 = \"0-10/0-10-000/1-11-111-0000\"\n",
    "c1,c2 = crossover(p1, p2, 1)\n",
    "print(p1,p2)\n",
    "print(c1, c2)"
   ]
  },
  {
   "cell_type": "markdown",
   "metadata": {},
   "source": [
    "突變的程式應該與課堂講義相同，僅需改動我們分割基因序的方式即可。"
   ]
  },
  {
   "cell_type": "code",
   "execution_count": 49,
   "metadata": {},
   "outputs": [],
   "source": [
    "def mutation(x: str, pm: float):\n",
    "    s = x.split('/')\n",
    "    stages = s\n",
    "    for s_i in range(len(s)):\n",
    "        stages[s_i] = s[s_i].split('-')\n",
    "    for i in range(len(stages)):\n",
    "        for j in range(len(stages[i])):\n",
    "            for k in range(len(stages[i][j])):\n",
    "                if np.random.rand() < pm:\n",
    "                    stages[i][j] = stages[i][j][:k] + str(1 - int(stages[i][j][k])) + stages[i][j][k+1:]\n",
    "        stages[i] = \"-\".join(stages[i])\n",
    "    return \"/\".join(stages)\n"
   ]
  },
  {
   "cell_type": "code",
   "execution_count": 50,
   "metadata": {},
   "outputs": [
    {
     "name": "stdout",
     "output_type": "stream",
     "text": [
      "loop 0: [origin: 1-10-101/1-11-100-1000, changed: 1-10-101/1-11-100-1010]\n",
      "loop 1: [origin: 1-10-101/1-11-100-1000, changed: 1-10-101/1-11-100-1100]\n",
      "loop 2: [origin: 1-10-101/1-11-100-1000, changed: 1-00-101/1-11-101-1000]\n",
      "loop 3: [origin: 1-10-101/1-11-100-1000, changed: 1-10-111/1-11-110-1010]\n",
      "loop 4: [origin: 1-10-101/1-11-100-1000, changed: 1-10-101/1-11-101-1000]\n",
      "loop 5: [origin: 1-10-101/1-11-100-1000, changed: 0-00-001/1-11-101-1010]\n",
      "loop 6: [origin: 1-10-101/1-11-100-1000, changed: 1-11-100/1-11-100-1001]\n",
      "loop 7: [origin: 1-10-101/1-11-100-1000, changed: 1-10-101/1-11-101-0000]\n",
      "loop 8: [origin: 1-10-101/1-11-100-1000, changed: 1-11-101/1-11-100-1110]\n",
      "loop 9: [origin: 1-10-101/1-11-100-1000, changed: 1-11-101/1-11-100-1000]\n"
     ]
    }
   ],
   "source": [
    "x = '1-10-101/1-11-100-1000'\n",
    "for index in range(10):\n",
    "    print(f\"loop {index}: [origin: {x}, changed: {mutation(x,0.1)}]\")"
   ]
  },
  {
   "cell_type": "markdown",
   "metadata": {},
   "source": [
    "分數的運算由CNN算出準確率，直接以準確率作為輪盤的面積分布即可。"
   ]
  },
  {
   "cell_type": "code",
   "execution_count": 51,
   "metadata": {},
   "outputs": [],
   "source": [
    "def fitness(x: str, trainx, trainy, testx, testy):\n",
    "    genes = x.split('/')\n",
    "    model = GA_MODEL.create_network(STAGE_NUM,STAGES_NEURONS,genes,POOLING_SIZES,FILTER_NUMDERS,KERNEL_SIZES,INPUT_SIZE)\n",
    "    model.compile(loss=loss, metrics=metrics, optimizer=optimizer)\n",
    "    model.summary()\n",
    "    history = model.fit(trainx, trainy, batch_size=batch_size, epochs=epoch, verbose=1,)\n",
    "\n",
    "    return model.evaluate(testx, testy, verbose=0)[1]"
   ]
  },
  {
   "cell_type": "markdown",
   "metadata": {},
   "source": [
    "隨機產生基因"
   ]
  },
  {
   "cell_type": "code",
   "execution_count": 52,
   "metadata": {},
   "outputs": [],
   "source": [
    "def random_generate_gene(stages,stage_num):\n",
    "    temp_gene = ''\n",
    "    for i in range(stage_num):\n",
    "        for j in range(1,stages[i]):\n",
    "            for _ in range(j):\n",
    "                temp_gene += str(np.random.randint(0,2))\n",
    "            if (j != stages[i]-1):\n",
    "                temp_gene += '-'\n",
    "        if (i != stage_num-1):\n",
    "            temp_gene += '/'\n",
    "    return temp_gene"
   ]
  },
  {
   "cell_type": "code",
   "execution_count": 53,
   "metadata": {},
   "outputs": [
    {
     "name": "stdout",
     "output_type": "stream",
     "text": [
      "1-00/1-10-110\n"
     ]
    }
   ],
   "source": [
    "print(random_generate_gene((3,4),2))"
   ]
  },
  {
   "cell_type": "markdown",
   "metadata": {},
   "source": [
    "最後將整個系統整合成一個完整的GA函式。"
   ]
  },
  {
   "cell_type": "code",
   "execution_count": 54,
   "metadata": {},
   "outputs": [],
   "source": [
    "def genetic_algorithm(fitness_func,num_iters, num_pop, pc, pm, trainx, trainy, testx, testy):\n",
    "    pop_list = []\n",
    "    for _ in range(num_pop):\n",
    "        pop_list.append(random_generate_gene(STAGES_NEURONS,STAGE_NUM))\n",
    "    best, best_eval = pop_list[0], 0\n",
    "    for it in range(num_iters):\n",
    "        # evaluate all candidates in the population\n",
    "        scores = [fitness_func(c,trainx,trainy, testx,testy) for c in pop_list]\n",
    "        # check for new best solution\n",
    "        for i in range(num_pop):\n",
    "            if scores[i] > best_eval:\n",
    "                best, best_eval = pop_list[i], scores[i]\n",
    "                print(\">%d, new best f(%s) = %.3f\" % (it, best, best_eval))\n",
    "        # select parents\n",
    "        selected = roulette_selection(pop_list, scores, num_pop)\n",
    "        # create the next generation\n",
    "        children = []\n",
    "        for i in range(0, num_pop, 2):\n",
    "            # get selected parents in pairs\n",
    "            p1, p2 = selected[i], selected[i + 1]\n",
    "            # crossover and mutation\n",
    "            for c in crossover(p1, p2, pc):\n",
    "                # mutation\n",
    "                c = mutation(c, pm)\n",
    "                # store for next generation\n",
    "                children.append(c)\n",
    "        # replace old population with new one that having high scores\n",
    "        pop_list = children\n",
    "    return best, best_eval"
   ]
  },
  {
   "cell_type": "code",
   "execution_count": 55,
   "metadata": {},
   "outputs": [
    {
     "name": "stdout",
     "output_type": "stream",
     "text": [
      "Model: \"model_9\"\n",
      "__________________________________________________________________________________________________\n",
      "Layer (type)                    Output Shape         Param #     Connected to                     \n",
      "==================================================================================================\n",
      "input_10 (InputLayer)           [(None, 32, 32, 3)]  0                                            \n",
      "__________________________________________________________________________________________________\n",
      "conv2d_99 (Conv2D)              (None, 32, 32, 32)   896         input_10[0][0]                   \n",
      "__________________________________________________________________________________________________\n",
      "conv2d_100 (Conv2D)             (None, 32, 32, 32)   9248        conv2d_99[0][0]                  \n",
      "__________________________________________________________________________________________________\n",
      "conv2d_101 (Conv2D)             (None, 32, 32, 32)   9248        conv2d_100[0][0]                 \n",
      "__________________________________________________________________________________________________\n",
      "concatenate_22 (Concatenate)    (None, 32, 32, 64)   0           conv2d_100[0][0]                 \n",
      "                                                                 conv2d_101[0][0]                 \n",
      "__________________________________________________________________________________________________\n",
      "conv2d_102 (Conv2D)             (None, 32, 32, 32)   18464       concatenate_22[0][0]             \n",
      "__________________________________________________________________________________________________\n",
      "conv2d_103 (Conv2D)             (None, 32, 32, 32)   9248        conv2d_102[0][0]                 \n",
      "__________________________________________________________________________________________________\n",
      "max_pooling2d_18 (MaxPooling2D) (None, 16, 16, 32)   0           conv2d_103[0][0]                 \n",
      "__________________________________________________________________________________________________\n",
      "conv2d_104 (Conv2D)             (None, 16, 16, 64)   18496       max_pooling2d_18[0][0]           \n",
      "                                                                 max_pooling2d_18[0][0]           \n",
      "                                                                 max_pooling2d_18[0][0]           \n",
      "                                                                 max_pooling2d_18[0][0]           \n",
      "__________________________________________________________________________________________________\n",
      "conv2d_105 (Conv2D)             (None, 16, 16, 64)   36928       conv2d_104[0][0]                 \n",
      "__________________________________________________________________________________________________\n",
      "conv2d_106 (Conv2D)             (None, 16, 16, 64)   36928       conv2d_104[1][0]                 \n",
      "__________________________________________________________________________________________________\n",
      "concatenate_23 (Concatenate)    (None, 16, 16, 128)  0           conv2d_105[0][0]                 \n",
      "                                                                 conv2d_106[0][0]                 \n",
      "__________________________________________________________________________________________________\n",
      "conv2d_107 (Conv2D)             (None, 16, 16, 64)   36928       conv2d_104[2][0]                 \n",
      "__________________________________________________________________________________________________\n",
      "concatenate_24 (Concatenate)    (None, 16, 16, 192)  0           concatenate_23[0][0]             \n",
      "                                                                 conv2d_107[0][0]                 \n",
      "__________________________________________________________________________________________________\n",
      "conv2d_108 (Conv2D)             (None, 16, 16, 64)   36928       conv2d_104[3][0]                 \n",
      "__________________________________________________________________________________________________\n",
      "concatenate_25 (Concatenate)    (None, 16, 16, 256)  0           concatenate_24[0][0]             \n",
      "                                                                 conv2d_108[0][0]                 \n",
      "__________________________________________________________________________________________________\n",
      "conv2d_109 (Conv2D)             (None, 16, 16, 64)   147520      concatenate_25[0][0]             \n",
      "__________________________________________________________________________________________________\n",
      "max_pooling2d_19 (MaxPooling2D) (None, 8, 8, 64)     0           conv2d_109[0][0]                 \n",
      "__________________________________________________________________________________________________\n",
      "flatten_9 (Flatten)             (None, 4096)         0           max_pooling2d_19[0][0]           \n",
      "__________________________________________________________________________________________________\n",
      "dense_9 (Dense)                 (None, 10)           40970       flatten_9[0][0]                  \n",
      "==================================================================================================\n",
      "Total params: 401,802\n",
      "Trainable params: 401,802\n",
      "Non-trainable params: 0\n",
      "__________________________________________________________________________________________________\n",
      "Epoch 1/10\n",
      "391/391 [==============================] - 8s 18ms/step - loss: 1.6974 - accuracy: 0.3990\n",
      "Epoch 2/10\n",
      "391/391 [==============================] - 7s 18ms/step - loss: 1.0740 - accuracy: 0.6351\n",
      "Epoch 3/10\n",
      "391/391 [==============================] - 7s 18ms/step - loss: 0.9558 - accuracy: 0.6761\n",
      "Epoch 4/10\n",
      "391/391 [==============================] - 7s 18ms/step - loss: 0.8676 - accuracy: 0.7035\n",
      "Epoch 5/10\n",
      "391/391 [==============================] - 7s 17ms/step - loss: 0.7973 - accuracy: 0.7256\n",
      "Epoch 6/10\n",
      "391/391 [==============================] - 7s 17ms/step - loss: 0.7458 - accuracy: 0.7464\n",
      "Epoch 7/10\n",
      "391/391 [==============================] - 7s 18ms/step - loss: 0.6843 - accuracy: 0.7645\n",
      "Epoch 8/10\n",
      "391/391 [==============================] - 7s 18ms/step - loss: 0.6369 - accuracy: 0.7817\n",
      "Epoch 9/10\n",
      "391/391 [==============================] - 7s 18ms/step - loss: 0.5826 - accuracy: 0.7992\n",
      "Epoch 10/10\n",
      "391/391 [==============================] - 7s 18ms/step - loss: 0.5457 - accuracy: 0.8116\n",
      "Model: \"model_10\"\n",
      "__________________________________________________________________________________________________\n",
      "Layer (type)                    Output Shape         Param #     Connected to                     \n",
      "==================================================================================================\n",
      "input_11 (InputLayer)           [(None, 32, 32, 3)]  0                                            \n",
      "__________________________________________________________________________________________________\n",
      "conv2d_110 (Conv2D)             (None, 32, 32, 32)   896         input_11[0][0]                   \n",
      "                                                                 input_11[0][0]                   \n",
      "__________________________________________________________________________________________________\n",
      "conv2d_111 (Conv2D)             (None, 32, 32, 32)   9248        conv2d_110[0][0]                 \n",
      "__________________________________________________________________________________________________\n",
      "conv2d_112 (Conv2D)             (None, 32, 32, 32)   9248        conv2d_110[1][0]                 \n",
      "__________________________________________________________________________________________________\n",
      "conv2d_113 (Conv2D)             (None, 32, 32, 32)   9248        conv2d_111[0][0]                 \n",
      "__________________________________________________________________________________________________\n",
      "concatenate_26 (Concatenate)    (None, 32, 32, 64)   0           conv2d_112[0][0]                 \n",
      "                                                                 conv2d_113[0][0]                 \n",
      "__________________________________________________________________________________________________\n",
      "conv2d_114 (Conv2D)             (None, 32, 32, 32)   18464       concatenate_26[0][0]             \n",
      "__________________________________________________________________________________________________\n",
      "max_pooling2d_20 (MaxPooling2D) (None, 16, 16, 32)   0           conv2d_114[0][0]                 \n",
      "__________________________________________________________________________________________________\n",
      "conv2d_115 (Conv2D)             (None, 16, 16, 64)   18496       max_pooling2d_20[0][0]           \n",
      "                                                                 max_pooling2d_20[0][0]           \n",
      "__________________________________________________________________________________________________\n",
      "conv2d_116 (Conv2D)             (None, 16, 16, 64)   36928       conv2d_115[0][0]                 \n",
      "__________________________________________________________________________________________________\n",
      "conv2d_117 (Conv2D)             (None, 16, 16, 64)   36928       conv2d_115[1][0]                 \n",
      "__________________________________________________________________________________________________\n",
      "concatenate_27 (Concatenate)    (None, 16, 16, 128)  0           conv2d_116[0][0]                 \n",
      "                                                                 conv2d_117[0][0]                 \n",
      "__________________________________________________________________________________________________\n",
      "conv2d_118 (Conv2D)             (None, 16, 16, 64)   73792       concatenate_27[0][0]             \n",
      "__________________________________________________________________________________________________\n",
      "conv2d_119 (Conv2D)             (None, 16, 16, 64)   36928       conv2d_117[0][0]                 \n",
      "__________________________________________________________________________________________________\n",
      "concatenate_28 (Concatenate)    (None, 16, 16, 128)  0           conv2d_118[0][0]                 \n",
      "                                                                 conv2d_119[0][0]                 \n",
      "__________________________________________________________________________________________________\n",
      "conv2d_120 (Conv2D)             (None, 16, 16, 64)   73792       concatenate_28[0][0]             \n",
      "__________________________________________________________________________________________________\n",
      "max_pooling2d_21 (MaxPooling2D) (None, 8, 8, 64)     0           conv2d_120[0][0]                 \n",
      "__________________________________________________________________________________________________\n",
      "flatten_10 (Flatten)            (None, 4096)         0           max_pooling2d_21[0][0]           \n",
      "__________________________________________________________________________________________________\n",
      "dense_10 (Dense)                (None, 10)           40970       flatten_10[0][0]                 \n",
      "==================================================================================================\n",
      "Total params: 364,938\n",
      "Trainable params: 364,938\n",
      "Non-trainable params: 0\n",
      "__________________________________________________________________________________________________\n",
      "Epoch 1/10\n",
      "391/391 [==============================] - 7s 17ms/step - loss: 1.7111 - accuracy: 0.3924\n",
      "Epoch 2/10\n",
      "391/391 [==============================] - 6s 17ms/step - loss: 1.0944 - accuracy: 0.6260\n",
      "Epoch 3/10\n",
      "391/391 [==============================] - 6s 17ms/step - loss: 0.9802 - accuracy: 0.6649\n",
      "Epoch 4/10\n",
      "391/391 [==============================] - 6s 17ms/step - loss: 0.8985 - accuracy: 0.6940\n",
      "Epoch 5/10\n",
      "391/391 [==============================] - 7s 17ms/step - loss: 0.8339 - accuracy: 0.7147\n",
      "Epoch 6/10\n",
      "391/391 [==============================] - 6s 17ms/step - loss: 0.7792 - accuracy: 0.7361\n",
      "Epoch 7/10\n",
      "391/391 [==============================] - 6s 17ms/step - loss: 0.7215 - accuracy: 0.7511\n",
      "Epoch 8/10\n",
      "391/391 [==============================] - 7s 17ms/step - loss: 0.6771 - accuracy: 0.7677\n",
      "Epoch 9/10\n",
      "391/391 [==============================] - 7s 17ms/step - loss: 0.6346 - accuracy: 0.7819\n",
      "Epoch 10/10\n",
      "391/391 [==============================] - 7s 17ms/step - loss: 0.5886 - accuracy: 0.7945\n",
      "Model: \"model_11\"\n",
      "__________________________________________________________________________________________________\n",
      "Layer (type)                    Output Shape         Param #     Connected to                     \n",
      "==================================================================================================\n",
      "input_12 (InputLayer)           [(None, 32, 32, 3)]  0                                            \n",
      "__________________________________________________________________________________________________\n",
      "conv2d_121 (Conv2D)             (None, 32, 32, 32)   896         input_12[0][0]                   \n",
      "                                                                 input_12[0][0]                   \n",
      "__________________________________________________________________________________________________\n",
      "conv2d_122 (Conv2D)             (None, 32, 32, 32)   9248        conv2d_121[0][0]                 \n",
      "__________________________________________________________________________________________________\n",
      "conv2d_123 (Conv2D)             (None, 32, 32, 32)   9248        conv2d_121[1][0]                 \n",
      "__________________________________________________________________________________________________\n",
      "conv2d_124 (Conv2D)             (None, 32, 32, 32)   9248        conv2d_122[0][0]                 \n",
      "__________________________________________________________________________________________________\n",
      "concatenate_29 (Concatenate)    (None, 32, 32, 64)   0           conv2d_123[0][0]                 \n",
      "                                                                 conv2d_124[0][0]                 \n",
      "__________________________________________________________________________________________________\n",
      "conv2d_125 (Conv2D)             (None, 32, 32, 32)   18464       concatenate_29[0][0]             \n",
      "__________________________________________________________________________________________________\n",
      "max_pooling2d_22 (MaxPooling2D) (None, 16, 16, 32)   0           conv2d_125[0][0]                 \n",
      "__________________________________________________________________________________________________\n",
      "conv2d_126 (Conv2D)             (None, 16, 16, 64)   18496       max_pooling2d_22[0][0]           \n",
      "                                                                 max_pooling2d_22[0][0]           \n",
      "__________________________________________________________________________________________________\n",
      "conv2d_127 (Conv2D)             (None, 16, 16, 64)   36928       conv2d_126[0][0]                 \n",
      "__________________________________________________________________________________________________\n",
      "conv2d_128 (Conv2D)             (None, 16, 16, 64)   36928       conv2d_127[0][0]                 \n",
      "__________________________________________________________________________________________________\n",
      "conv2d_129 (Conv2D)             (None, 16, 16, 64)   36928       conv2d_128[0][0]                 \n",
      "__________________________________________________________________________________________________\n",
      "conv2d_130 (Conv2D)             (None, 16, 16, 64)   36928       conv2d_126[1][0]                 \n",
      "__________________________________________________________________________________________________\n",
      "concatenate_30 (Concatenate)    (None, 16, 16, 128)  0           conv2d_129[0][0]                 \n",
      "                                                                 conv2d_130[0][0]                 \n",
      "__________________________________________________________________________________________________\n",
      "conv2d_131 (Conv2D)             (None, 16, 16, 64)   73792       concatenate_30[0][0]             \n",
      "__________________________________________________________________________________________________\n",
      "max_pooling2d_23 (MaxPooling2D) (None, 8, 8, 64)     0           conv2d_131[0][0]                 \n",
      "__________________________________________________________________________________________________\n",
      "flatten_11 (Flatten)            (None, 4096)         0           max_pooling2d_23[0][0]           \n",
      "__________________________________________________________________________________________________\n",
      "dense_11 (Dense)                (None, 10)           40970       flatten_11[0][0]                 \n",
      "==================================================================================================\n",
      "Total params: 328,074\n",
      "Trainable params: 328,074\n",
      "Non-trainable params: 0\n",
      "__________________________________________________________________________________________________\n",
      "Epoch 1/10\n",
      "245/391 [=================>............] - ETA: 2s - loss: 1.8120 - accuracy: 0.3589"
     ]
    },
    {
     "ename": "KeyboardInterrupt",
     "evalue": "",
     "output_type": "error",
     "traceback": [
      "\u001b[1;31m---------------------------------------------------------------------------\u001b[0m",
      "\u001b[1;31mKeyboardInterrupt\u001b[0m                         Traceback (most recent call last)",
      "\u001b[1;32m~\\AppData\\Local\\Temp\\ipykernel_1540\\3732098114.py\u001b[0m in \u001b[0;36m<module>\u001b[1;34m\u001b[0m\n\u001b[0;32m      6\u001b[0m \u001b[0mtrainy\u001b[0m \u001b[1;33m=\u001b[0m \u001b[0mnp_utils\u001b[0m\u001b[1;33m.\u001b[0m\u001b[0mto_categorical\u001b[0m\u001b[1;33m(\u001b[0m\u001b[0mtrainy\u001b[0m\u001b[1;33m)\u001b[0m\u001b[1;33m\u001b[0m\u001b[1;33m\u001b[0m\u001b[0m\n\u001b[0;32m      7\u001b[0m \u001b[0mtesty\u001b[0m \u001b[1;33m=\u001b[0m \u001b[0mnp_utils\u001b[0m\u001b[1;33m.\u001b[0m\u001b[0mto_categorical\u001b[0m\u001b[1;33m(\u001b[0m\u001b[0mtesty\u001b[0m\u001b[1;33m)\u001b[0m\u001b[1;33m\u001b[0m\u001b[1;33m\u001b[0m\u001b[0m\n\u001b[1;32m----> 8\u001b[1;33m \u001b[0mgenetic_algorithm\u001b[0m\u001b[1;33m(\u001b[0m\u001b[0mfitness\u001b[0m\u001b[1;33m,\u001b[0m \u001b[0mgeneration\u001b[0m\u001b[1;33m,\u001b[0m \u001b[1;36m10\u001b[0m\u001b[1;33m,\u001b[0m \u001b[1;36m0.8\u001b[0m\u001b[1;33m,\u001b[0m \u001b[1;36m0.1\u001b[0m\u001b[1;33m,\u001b[0m \u001b[0mtrainx\u001b[0m\u001b[1;33m,\u001b[0m\u001b[0mtrainy\u001b[0m\u001b[1;33m,\u001b[0m \u001b[0mtestx\u001b[0m\u001b[1;33m,\u001b[0m\u001b[0mtesty\u001b[0m\u001b[1;33m)\u001b[0m\u001b[1;33m\u001b[0m\u001b[1;33m\u001b[0m\u001b[0m\n\u001b[0m",
      "\u001b[1;32m~\\AppData\\Local\\Temp\\ipykernel_1540\\3221855424.py\u001b[0m in \u001b[0;36mgenetic_algorithm\u001b[1;34m(fitness_func, num_iters, num_pop, pc, pm, trainx, trainy, testx, testy)\u001b[0m\n\u001b[0;32m      6\u001b[0m     \u001b[1;32mfor\u001b[0m \u001b[0mit\u001b[0m \u001b[1;32min\u001b[0m \u001b[0mrange\u001b[0m\u001b[1;33m(\u001b[0m\u001b[0mnum_iters\u001b[0m\u001b[1;33m)\u001b[0m\u001b[1;33m:\u001b[0m\u001b[1;33m\u001b[0m\u001b[1;33m\u001b[0m\u001b[0m\n\u001b[0;32m      7\u001b[0m         \u001b[1;31m# evaluate all candidates in the population\u001b[0m\u001b[1;33m\u001b[0m\u001b[1;33m\u001b[0m\u001b[1;33m\u001b[0m\u001b[0m\n\u001b[1;32m----> 8\u001b[1;33m         \u001b[0mscores\u001b[0m \u001b[1;33m=\u001b[0m \u001b[1;33m[\u001b[0m\u001b[0mfitness_func\u001b[0m\u001b[1;33m(\u001b[0m\u001b[0mc\u001b[0m\u001b[1;33m,\u001b[0m\u001b[0mtrainx\u001b[0m\u001b[1;33m,\u001b[0m\u001b[0mtrainy\u001b[0m\u001b[1;33m,\u001b[0m \u001b[0mtestx\u001b[0m\u001b[1;33m,\u001b[0m\u001b[0mtesty\u001b[0m\u001b[1;33m)\u001b[0m \u001b[1;32mfor\u001b[0m \u001b[0mc\u001b[0m \u001b[1;32min\u001b[0m \u001b[0mpop_list\u001b[0m\u001b[1;33m]\u001b[0m\u001b[1;33m\u001b[0m\u001b[1;33m\u001b[0m\u001b[0m\n\u001b[0m\u001b[0;32m      9\u001b[0m         \u001b[1;31m# check for new best solution\u001b[0m\u001b[1;33m\u001b[0m\u001b[1;33m\u001b[0m\u001b[1;33m\u001b[0m\u001b[0m\n\u001b[0;32m     10\u001b[0m         \u001b[1;32mfor\u001b[0m \u001b[0mi\u001b[0m \u001b[1;32min\u001b[0m \u001b[0mrange\u001b[0m\u001b[1;33m(\u001b[0m\u001b[0mnum_pop\u001b[0m\u001b[1;33m)\u001b[0m\u001b[1;33m:\u001b[0m\u001b[1;33m\u001b[0m\u001b[1;33m\u001b[0m\u001b[0m\n",
      "\u001b[1;32m~\\AppData\\Local\\Temp\\ipykernel_1540\\3221855424.py\u001b[0m in \u001b[0;36m<listcomp>\u001b[1;34m(.0)\u001b[0m\n\u001b[0;32m      6\u001b[0m     \u001b[1;32mfor\u001b[0m \u001b[0mit\u001b[0m \u001b[1;32min\u001b[0m \u001b[0mrange\u001b[0m\u001b[1;33m(\u001b[0m\u001b[0mnum_iters\u001b[0m\u001b[1;33m)\u001b[0m\u001b[1;33m:\u001b[0m\u001b[1;33m\u001b[0m\u001b[1;33m\u001b[0m\u001b[0m\n\u001b[0;32m      7\u001b[0m         \u001b[1;31m# evaluate all candidates in the population\u001b[0m\u001b[1;33m\u001b[0m\u001b[1;33m\u001b[0m\u001b[1;33m\u001b[0m\u001b[0m\n\u001b[1;32m----> 8\u001b[1;33m         \u001b[0mscores\u001b[0m \u001b[1;33m=\u001b[0m \u001b[1;33m[\u001b[0m\u001b[0mfitness_func\u001b[0m\u001b[1;33m(\u001b[0m\u001b[0mc\u001b[0m\u001b[1;33m,\u001b[0m\u001b[0mtrainx\u001b[0m\u001b[1;33m,\u001b[0m\u001b[0mtrainy\u001b[0m\u001b[1;33m,\u001b[0m \u001b[0mtestx\u001b[0m\u001b[1;33m,\u001b[0m\u001b[0mtesty\u001b[0m\u001b[1;33m)\u001b[0m \u001b[1;32mfor\u001b[0m \u001b[0mc\u001b[0m \u001b[1;32min\u001b[0m \u001b[0mpop_list\u001b[0m\u001b[1;33m]\u001b[0m\u001b[1;33m\u001b[0m\u001b[1;33m\u001b[0m\u001b[0m\n\u001b[0m\u001b[0;32m      9\u001b[0m         \u001b[1;31m# check for new best solution\u001b[0m\u001b[1;33m\u001b[0m\u001b[1;33m\u001b[0m\u001b[1;33m\u001b[0m\u001b[0m\n\u001b[0;32m     10\u001b[0m         \u001b[1;32mfor\u001b[0m \u001b[0mi\u001b[0m \u001b[1;32min\u001b[0m \u001b[0mrange\u001b[0m\u001b[1;33m(\u001b[0m\u001b[0mnum_pop\u001b[0m\u001b[1;33m)\u001b[0m\u001b[1;33m:\u001b[0m\u001b[1;33m\u001b[0m\u001b[1;33m\u001b[0m\u001b[0m\n",
      "\u001b[1;32m~\\AppData\\Local\\Temp\\ipykernel_1540\\402682532.py\u001b[0m in \u001b[0;36mfitness\u001b[1;34m(x, trainx, trainy, testx, testy)\u001b[0m\n\u001b[0;32m      4\u001b[0m     \u001b[0mmodel\u001b[0m\u001b[1;33m.\u001b[0m\u001b[0mcompile\u001b[0m\u001b[1;33m(\u001b[0m\u001b[0mloss\u001b[0m\u001b[1;33m=\u001b[0m\u001b[0mloss\u001b[0m\u001b[1;33m,\u001b[0m \u001b[0mmetrics\u001b[0m\u001b[1;33m=\u001b[0m\u001b[0mmetrics\u001b[0m\u001b[1;33m,\u001b[0m \u001b[0moptimizer\u001b[0m\u001b[1;33m=\u001b[0m\u001b[0moptimizer\u001b[0m\u001b[1;33m)\u001b[0m\u001b[1;33m\u001b[0m\u001b[1;33m\u001b[0m\u001b[0m\n\u001b[0;32m      5\u001b[0m     \u001b[0mmodel\u001b[0m\u001b[1;33m.\u001b[0m\u001b[0msummary\u001b[0m\u001b[1;33m(\u001b[0m\u001b[1;33m)\u001b[0m\u001b[1;33m\u001b[0m\u001b[1;33m\u001b[0m\u001b[0m\n\u001b[1;32m----> 6\u001b[1;33m     \u001b[0mhistory\u001b[0m \u001b[1;33m=\u001b[0m \u001b[0mmodel\u001b[0m\u001b[1;33m.\u001b[0m\u001b[0mfit\u001b[0m\u001b[1;33m(\u001b[0m\u001b[0mtrainx\u001b[0m\u001b[1;33m,\u001b[0m \u001b[0mtrainy\u001b[0m\u001b[1;33m,\u001b[0m \u001b[0mbatch_size\u001b[0m\u001b[1;33m=\u001b[0m\u001b[0mbatch_size\u001b[0m\u001b[1;33m,\u001b[0m \u001b[0mepochs\u001b[0m\u001b[1;33m=\u001b[0m\u001b[0mepoch\u001b[0m\u001b[1;33m,\u001b[0m \u001b[0mverbose\u001b[0m\u001b[1;33m=\u001b[0m\u001b[1;36m1\u001b[0m\u001b[1;33m,\u001b[0m\u001b[1;33m)\u001b[0m\u001b[1;33m\u001b[0m\u001b[1;33m\u001b[0m\u001b[0m\n\u001b[0m\u001b[0;32m      7\u001b[0m \u001b[1;33m\u001b[0m\u001b[0m\n\u001b[0;32m      8\u001b[0m     \u001b[1;32mreturn\u001b[0m \u001b[0mmodel\u001b[0m\u001b[1;33m.\u001b[0m\u001b[0mevaluate\u001b[0m\u001b[1;33m(\u001b[0m\u001b[0mtestx\u001b[0m\u001b[1;33m,\u001b[0m \u001b[0mtesty\u001b[0m\u001b[1;33m,\u001b[0m \u001b[0mverbose\u001b[0m\u001b[1;33m=\u001b[0m\u001b[1;36m0\u001b[0m\u001b[1;33m)\u001b[0m\u001b[1;33m[\u001b[0m\u001b[1;36m1\u001b[0m\u001b[1;33m]\u001b[0m\u001b[1;33m\u001b[0m\u001b[1;33m\u001b[0m\u001b[0m\n",
      "\u001b[1;32mc:\\Users\\p8l2n\\AppData\\Local\\Programs\\Python\\Python37\\lib\\site-packages\\tensorflow\\python\\keras\\engine\\training.py\u001b[0m in \u001b[0;36mfit\u001b[1;34m(self, x, y, batch_size, epochs, verbose, callbacks, validation_split, validation_data, shuffle, class_weight, sample_weight, initial_epoch, steps_per_epoch, validation_steps, validation_batch_size, validation_freq, max_queue_size, workers, use_multiprocessing)\u001b[0m\n\u001b[0;32m   1098\u001b[0m                 _r=1):\n\u001b[0;32m   1099\u001b[0m               \u001b[0mcallbacks\u001b[0m\u001b[1;33m.\u001b[0m\u001b[0mon_train_batch_begin\u001b[0m\u001b[1;33m(\u001b[0m\u001b[0mstep\u001b[0m\u001b[1;33m)\u001b[0m\u001b[1;33m\u001b[0m\u001b[1;33m\u001b[0m\u001b[0m\n\u001b[1;32m-> 1100\u001b[1;33m               \u001b[0mtmp_logs\u001b[0m \u001b[1;33m=\u001b[0m \u001b[0mself\u001b[0m\u001b[1;33m.\u001b[0m\u001b[0mtrain_function\u001b[0m\u001b[1;33m(\u001b[0m\u001b[0miterator\u001b[0m\u001b[1;33m)\u001b[0m\u001b[1;33m\u001b[0m\u001b[1;33m\u001b[0m\u001b[0m\n\u001b[0m\u001b[0;32m   1101\u001b[0m               \u001b[1;32mif\u001b[0m \u001b[0mdata_handler\u001b[0m\u001b[1;33m.\u001b[0m\u001b[0mshould_sync\u001b[0m\u001b[1;33m:\u001b[0m\u001b[1;33m\u001b[0m\u001b[1;33m\u001b[0m\u001b[0m\n\u001b[0;32m   1102\u001b[0m                 \u001b[0mcontext\u001b[0m\u001b[1;33m.\u001b[0m\u001b[0masync_wait\u001b[0m\u001b[1;33m(\u001b[0m\u001b[1;33m)\u001b[0m\u001b[1;33m\u001b[0m\u001b[1;33m\u001b[0m\u001b[0m\n",
      "\u001b[1;32mc:\\Users\\p8l2n\\AppData\\Local\\Programs\\Python\\Python37\\lib\\site-packages\\tensorflow\\python\\eager\\def_function.py\u001b[0m in \u001b[0;36m__call__\u001b[1;34m(self, *args, **kwds)\u001b[0m\n\u001b[0;32m    826\u001b[0m     \u001b[0mtracing_count\u001b[0m \u001b[1;33m=\u001b[0m \u001b[0mself\u001b[0m\u001b[1;33m.\u001b[0m\u001b[0mexperimental_get_tracing_count\u001b[0m\u001b[1;33m(\u001b[0m\u001b[1;33m)\u001b[0m\u001b[1;33m\u001b[0m\u001b[1;33m\u001b[0m\u001b[0m\n\u001b[0;32m    827\u001b[0m     \u001b[1;32mwith\u001b[0m \u001b[0mtrace\u001b[0m\u001b[1;33m.\u001b[0m\u001b[0mTrace\u001b[0m\u001b[1;33m(\u001b[0m\u001b[0mself\u001b[0m\u001b[1;33m.\u001b[0m\u001b[0m_name\u001b[0m\u001b[1;33m)\u001b[0m \u001b[1;32mas\u001b[0m \u001b[0mtm\u001b[0m\u001b[1;33m:\u001b[0m\u001b[1;33m\u001b[0m\u001b[1;33m\u001b[0m\u001b[0m\n\u001b[1;32m--> 828\u001b[1;33m       \u001b[0mresult\u001b[0m \u001b[1;33m=\u001b[0m \u001b[0mself\u001b[0m\u001b[1;33m.\u001b[0m\u001b[0m_call\u001b[0m\u001b[1;33m(\u001b[0m\u001b[1;33m*\u001b[0m\u001b[0margs\u001b[0m\u001b[1;33m,\u001b[0m \u001b[1;33m**\u001b[0m\u001b[0mkwds\u001b[0m\u001b[1;33m)\u001b[0m\u001b[1;33m\u001b[0m\u001b[1;33m\u001b[0m\u001b[0m\n\u001b[0m\u001b[0;32m    829\u001b[0m       \u001b[0mcompiler\u001b[0m \u001b[1;33m=\u001b[0m \u001b[1;34m\"xla\"\u001b[0m \u001b[1;32mif\u001b[0m \u001b[0mself\u001b[0m\u001b[1;33m.\u001b[0m\u001b[0m_experimental_compile\u001b[0m \u001b[1;32melse\u001b[0m \u001b[1;34m\"nonXla\"\u001b[0m\u001b[1;33m\u001b[0m\u001b[1;33m\u001b[0m\u001b[0m\n\u001b[0;32m    830\u001b[0m       \u001b[0mnew_tracing_count\u001b[0m \u001b[1;33m=\u001b[0m \u001b[0mself\u001b[0m\u001b[1;33m.\u001b[0m\u001b[0mexperimental_get_tracing_count\u001b[0m\u001b[1;33m(\u001b[0m\u001b[1;33m)\u001b[0m\u001b[1;33m\u001b[0m\u001b[1;33m\u001b[0m\u001b[0m\n",
      "\u001b[1;32mc:\\Users\\p8l2n\\AppData\\Local\\Programs\\Python\\Python37\\lib\\site-packages\\tensorflow\\python\\eager\\def_function.py\u001b[0m in \u001b[0;36m_call\u001b[1;34m(self, *args, **kwds)\u001b[0m\n\u001b[0;32m    853\u001b[0m       \u001b[1;31m# In this case we have created variables on the first call, so we run the\u001b[0m\u001b[1;33m\u001b[0m\u001b[1;33m\u001b[0m\u001b[1;33m\u001b[0m\u001b[0m\n\u001b[0;32m    854\u001b[0m       \u001b[1;31m# defunned version which is guaranteed to never create variables.\u001b[0m\u001b[1;33m\u001b[0m\u001b[1;33m\u001b[0m\u001b[1;33m\u001b[0m\u001b[0m\n\u001b[1;32m--> 855\u001b[1;33m       \u001b[1;32mreturn\u001b[0m \u001b[0mself\u001b[0m\u001b[1;33m.\u001b[0m\u001b[0m_stateless_fn\u001b[0m\u001b[1;33m(\u001b[0m\u001b[1;33m*\u001b[0m\u001b[0margs\u001b[0m\u001b[1;33m,\u001b[0m \u001b[1;33m**\u001b[0m\u001b[0mkwds\u001b[0m\u001b[1;33m)\u001b[0m  \u001b[1;31m# pylint: disable=not-callable\u001b[0m\u001b[1;33m\u001b[0m\u001b[1;33m\u001b[0m\u001b[0m\n\u001b[0m\u001b[0;32m    856\u001b[0m     \u001b[1;32melif\u001b[0m \u001b[0mself\u001b[0m\u001b[1;33m.\u001b[0m\u001b[0m_stateful_fn\u001b[0m \u001b[1;32mis\u001b[0m \u001b[1;32mnot\u001b[0m \u001b[1;32mNone\u001b[0m\u001b[1;33m:\u001b[0m\u001b[1;33m\u001b[0m\u001b[1;33m\u001b[0m\u001b[0m\n\u001b[0;32m    857\u001b[0m       \u001b[1;31m# Release the lock early so that multiple threads can perform the call\u001b[0m\u001b[1;33m\u001b[0m\u001b[1;33m\u001b[0m\u001b[1;33m\u001b[0m\u001b[0m\n",
      "\u001b[1;32mc:\\Users\\p8l2n\\AppData\\Local\\Programs\\Python\\Python37\\lib\\site-packages\\tensorflow\\python\\eager\\function.py\u001b[0m in \u001b[0;36m__call__\u001b[1;34m(self, *args, **kwargs)\u001b[0m\n\u001b[0;32m   2941\u001b[0m        filtered_flat_args) = self._maybe_define_function(args, kwargs)\n\u001b[0;32m   2942\u001b[0m     return graph_function._call_flat(\n\u001b[1;32m-> 2943\u001b[1;33m         filtered_flat_args, captured_inputs=graph_function.captured_inputs)  # pylint: disable=protected-access\n\u001b[0m\u001b[0;32m   2944\u001b[0m \u001b[1;33m\u001b[0m\u001b[0m\n\u001b[0;32m   2945\u001b[0m   \u001b[1;33m@\u001b[0m\u001b[0mproperty\u001b[0m\u001b[1;33m\u001b[0m\u001b[1;33m\u001b[0m\u001b[0m\n",
      "\u001b[1;32mc:\\Users\\p8l2n\\AppData\\Local\\Programs\\Python\\Python37\\lib\\site-packages\\tensorflow\\python\\eager\\function.py\u001b[0m in \u001b[0;36m_call_flat\u001b[1;34m(self, args, captured_inputs, cancellation_manager)\u001b[0m\n\u001b[0;32m   1917\u001b[0m       \u001b[1;31m# No tape is watching; skip to running the function.\u001b[0m\u001b[1;33m\u001b[0m\u001b[1;33m\u001b[0m\u001b[1;33m\u001b[0m\u001b[0m\n\u001b[0;32m   1918\u001b[0m       return self._build_call_outputs(self._inference_function.call(\n\u001b[1;32m-> 1919\u001b[1;33m           ctx, args, cancellation_manager=cancellation_manager))\n\u001b[0m\u001b[0;32m   1920\u001b[0m     forward_backward = self._select_forward_and_backward_functions(\n\u001b[0;32m   1921\u001b[0m         \u001b[0margs\u001b[0m\u001b[1;33m,\u001b[0m\u001b[1;33m\u001b[0m\u001b[1;33m\u001b[0m\u001b[0m\n",
      "\u001b[1;32mc:\\Users\\p8l2n\\AppData\\Local\\Programs\\Python\\Python37\\lib\\site-packages\\tensorflow\\python\\eager\\function.py\u001b[0m in \u001b[0;36mcall\u001b[1;34m(self, ctx, args, cancellation_manager)\u001b[0m\n\u001b[0;32m    558\u001b[0m               \u001b[0minputs\u001b[0m\u001b[1;33m=\u001b[0m\u001b[0margs\u001b[0m\u001b[1;33m,\u001b[0m\u001b[1;33m\u001b[0m\u001b[1;33m\u001b[0m\u001b[0m\n\u001b[0;32m    559\u001b[0m               \u001b[0mattrs\u001b[0m\u001b[1;33m=\u001b[0m\u001b[0mattrs\u001b[0m\u001b[1;33m,\u001b[0m\u001b[1;33m\u001b[0m\u001b[1;33m\u001b[0m\u001b[0m\n\u001b[1;32m--> 560\u001b[1;33m               ctx=ctx)\n\u001b[0m\u001b[0;32m    561\u001b[0m         \u001b[1;32melse\u001b[0m\u001b[1;33m:\u001b[0m\u001b[1;33m\u001b[0m\u001b[1;33m\u001b[0m\u001b[0m\n\u001b[0;32m    562\u001b[0m           outputs = execute.execute_with_cancellation(\n",
      "\u001b[1;32mc:\\Users\\p8l2n\\AppData\\Local\\Programs\\Python\\Python37\\lib\\site-packages\\tensorflow\\python\\eager\\execute.py\u001b[0m in \u001b[0;36mquick_execute\u001b[1;34m(op_name, num_outputs, inputs, attrs, ctx, name)\u001b[0m\n\u001b[0;32m     58\u001b[0m     \u001b[0mctx\u001b[0m\u001b[1;33m.\u001b[0m\u001b[0mensure_initialized\u001b[0m\u001b[1;33m(\u001b[0m\u001b[1;33m)\u001b[0m\u001b[1;33m\u001b[0m\u001b[1;33m\u001b[0m\u001b[0m\n\u001b[0;32m     59\u001b[0m     tensors = pywrap_tfe.TFE_Py_Execute(ctx._handle, device_name, op_name,\n\u001b[1;32m---> 60\u001b[1;33m                                         inputs, attrs, num_outputs)\n\u001b[0m\u001b[0;32m     61\u001b[0m   \u001b[1;32mexcept\u001b[0m \u001b[0mcore\u001b[0m\u001b[1;33m.\u001b[0m\u001b[0m_NotOkStatusException\u001b[0m \u001b[1;32mas\u001b[0m \u001b[0me\u001b[0m\u001b[1;33m:\u001b[0m\u001b[1;33m\u001b[0m\u001b[1;33m\u001b[0m\u001b[0m\n\u001b[0;32m     62\u001b[0m     \u001b[1;32mif\u001b[0m \u001b[0mname\u001b[0m \u001b[1;32mis\u001b[0m \u001b[1;32mnot\u001b[0m \u001b[1;32mNone\u001b[0m\u001b[1;33m:\u001b[0m\u001b[1;33m\u001b[0m\u001b[1;33m\u001b[0m\u001b[0m\n",
      "\u001b[1;31mKeyboardInterrupt\u001b[0m: "
     ]
    }
   ],
   "source": [
    "import tensorflow as tf\n",
    "from keras.utils import np_utils\n",
    "(trainx,trainy), (testx,testy) = tf.keras.datasets.cifar10.load_data()\n",
    "trainx = trainx.astype('float32')/255\n",
    "testx = testx.astype('float32')/255\n",
    "trainy = np_utils.to_categorical(trainy)\n",
    "testy = np_utils.to_categorical(testy)\n",
    "genetic_algorithm(fitness, generation, 10, 0.8, 0.1, trainx,trainy, testx,testy)"
   ]
  }
 ],
 "metadata": {
  "interpreter": {
   "hash": "066fe59c58fde6949798d2e46165580f379eff05654fa24d0e819dcffa1e083a"
  },
  "kernelspec": {
   "display_name": "Python 3.7.3 64-bit",
   "language": "python",
   "name": "python3"
  },
  "language_info": {
   "codemirror_mode": {
    "name": "ipython",
    "version": 3
   },
   "file_extension": ".py",
   "mimetype": "text/x-python",
   "name": "python",
   "nbconvert_exporter": "python",
   "pygments_lexer": "ipython3",
   "version": "3.7.3"
  },
  "orig_nbformat": 4
 },
 "nbformat": 4,
 "nbformat_minor": 2
}
