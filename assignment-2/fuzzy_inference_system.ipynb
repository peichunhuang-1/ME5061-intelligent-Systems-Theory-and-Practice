{
 "cells": [
  {
   "cell_type": "markdown",
   "metadata": {
    "collapsed": false
   },
   "source": [
    "# Fuzzy Inference Systems"
   ]
  },
  {
   "cell_type": "markdown",
   "metadata": {
    "collapsed": false
   },
   "source": [
    "## A. Fuzzy inference systems"
   ]
  },
  {
   "cell_type": "markdown",
   "metadata": {},
   "source": [
    "A fuzzy system is a repository of fuzzy expert knowledge that can reason data in vague terms instead of precise Boolean logic. The basic configuration of a fuzzy system is shown as:\n",
    "\n",
    "![](figures/1*ArAJV83q01pz2thVR9yHNw.jpeg)\n",
    "\n",
    "A typical fuzzy system can be split into four main parts, namely **fuzzifier**, **knowledge base**, **inference engine** and **defuzzifier**.\n",
    "\n",
    "1. The **fuzzifier** maps a real crisp input to a fuzzy function, therefore determining the ‘degree of membership’ of the input to a vague concept. In a number of controllers, the values of the input variables are mapped to the range of values of the corresponding universe of discourse. The range and resolution of input-fuzzy sets and their effect on the fuzzification process are considered as factors affecting the overall performance of the controller.\n",
    "\n",
    "2. The **knowledge base** comprises the knowledge of the application domain and the attendant control goals. It can be split into a database of **definitions** used to express linguistic control rules in the controller, and a **rule base** that describes the knowledge held by the experts of the domain. Intuitively, the knowledge base is the core element of a fuzzy controller as it will contain all the information necessary to accomplish its execution tasks. Various researchers have applied techniques to fine-tune a fuzzy controller’s knowledge base, such as Genetic Algorithms, or neural networks\n",
    "\n",
    "3. The **Inference Engine** provides the decision-making logic of the controller. It deduces the fuzzy control actions by employing fuzzy implications and fuzzy rules of inference. In many aspects, it can be viewed as an emulation of human decision-making.\n",
    "\n",
    "4. The **Defuzzification** process converts fuzzy control values into crisp quantities, that is, it links a single point to a fuzzy set, given that the point belongs to the support of the fuzzy set."
   ]
  },
  {
   "cell_type": "markdown",
   "metadata": {
    "collapsed": false
   },
   "source": [
    "The expert knowledge is a collection of fuzzy membership functions and a set of fuzzy rules, known as the rule-base, having the form:\n",
    "\n",
    "> **IF** `{antecedent clauses}` **THEN** `{consequent clauses}`\n",
    "\n",
    "Thus, a rule will contain several clauses of antecedent type and some clauses of consequent type. Clauses will be of the form:\n",
    "\n",
    "> `{variable name}` **is** `{set name}`\n",
    "\n",
    "For example, we have two clauses, `Tempurature is Low` and `Speed is Slow`. A rule can be constructed based given clauses as below:\n",
    "\n",
    "> **IF** `Tempurature is Low` **THEN** `Speed is Slow`"
   ]
  },
  {
   "cell_type": "markdown",
   "metadata": {
    "collapsed": false
   },
   "source": [
    "### 1. Mamdani Inference Fuzzy Systems"
   ]
  },
  {
   "cell_type": "markdown",
   "metadata": {
    "collapsed": false
   },
   "source": [
    "In **Mamdani's inferencing**, the antecedents and consequents of a fuzzy rule are fuzzy sets. The inference is based on **Generalised Modus Ponens**, which states that the degree of truth of the consequent of a fuzzy rule is the degree of truth of the antecedent.\n",
    "\n",
    "In the case where more than one antecedent clause is present, the individual degrees of membership are joined using a min t-norm operator. If the fuzzy system contains several rules, their output is combined using a max s-norm operator. **Defuzzification** is necessary so that the consequent action can be expressed in terms of a crisp value.\n",
    "\n",
    "The graphical representation of this process is shown below:\n",
    "\n",
    "![](figures/1*etBn5hRH1gGvzBEI24x1hA.jpeg)"
   ]
  },
  {
   "cell_type": "markdown",
   "metadata": {
    "collapsed": false
   },
   "source": [
    "### 2. Takagi-Sugeno inference system"
   ]
  },
  {
   "cell_type": "markdown",
   "metadata": {
    "collapsed": false
   },
   "source": [
    "In **Takagi-Sugeno inferencing**, the consequents are functions that map crisp input values to the rule’s crisp output. Hence, fuzzy rules are of the form:\n",
    "\n",
    "> **IF** `x IS X` **and** `y IS Y` **THEN** `z=f(x,y)`\n",
    "\n",
    "where f is generally a linear function in X and Y.\n",
    "\n",
    "In contrast to Mamdani's fuzzy systems, the rules are not combined using a max -operator but are combined by finding a weighted average, where the weight of a given rule is the degree of membership of its antecedent. Therefore, Takagi-Sugeno systems do not require any defuzzification."
   ]
  },
  {
   "cell_type": "markdown",
   "metadata": {
    "collapsed": false
   },
   "source": [
    "## B. Mamdani Fuzzy System Implementation"
   ]
  },
  {
   "cell_type": "markdown",
   "metadata": {
    "collapsed": false
   },
   "source": [
    "The design of Fuzzy Inference Systems is based on several considerations:\n",
    "* A Fuzzy Inference System will require **input** and **output** variables and a collection of **fuzzy rules**.\n",
    "* Both input and output variables will contain a collection of fuzzy sets if the Fuzzy Inference System is of **Mamdani type**.\n",
    "* Input and output variables are very similar, but they are used differently by fuzzy rules. During execution, input variables use the input values to the system to fuzzify their sets, that is they determine the degree of belonging of that input value to all the fuzzy sets of the variable. Each rule contributes to some extent to the output variables; the totality of this contribution will determine the output of the system."
   ]
  },
  {
   "cell_type": "markdown",
   "metadata": {
    "collapsed": false
   },
   "source": [
    "The Fuzzy System architecture is design into `FuzzySystem` class, which is formed from subclass components:\n",
    "1. `FuzzySet` class: define a set of elements have degrees of membership.\n",
    "2. `FuzzyVariable` class: define the language that will be used to discuss a fuzzy concept, e.g. temperature, pressure, etc. variables can be of **input** and **output** in type.\n",
    "    2.a. `FuzzyVariableInput` class: having `fuzzify` method to fuzzify the variable\n",
    "    2.b. `FuzzyVariableOutput` class.\n",
    "3. `FuzzyClause` class: define the clauses for fuzzy rules from fuzzy variable and fuzzy set.\n",
    "4. `FuzzyRule` class: define the fuzzy rules."
   ]
  },
  {
   "cell_type": "markdown",
   "metadata": {
    "collapsed": false
   },
   "source": [
    "## C. Implementation Exercise"
   ]
  },
  {
   "cell_type": "markdown",
   "metadata": {
    "collapsed": false
   },
   "source": [
    "The exercise requires you to complete the methods that having **TODO** requirement in `FuzzySystem`, `FuzzyRule`, `FuzzyVariable` classes in the corresponding `*.py` files in `fuzzy_system` folder."
   ]
  },
  {
   "cell_type": "markdown",
   "metadata": {
    "collapsed": false
   },
   "source": [
    "After completing the implementation requirement, try the implement the example below"
   ]
  },
  {
   "cell_type": "code",
   "execution_count": 1,
   "metadata": {
    "collapsed": false,
    "pycharm": {
     "name": "#%%\n"
    }
   },
   "outputs": [
    {
     "name": "stderr",
     "output_type": "stream",
     "text": [
      "\n",
      "Bad key \"text.kerning_factor\" on line 4 in\n",
      "/Users/huangpeijun/anaconda3/lib/python3.7/site-packages/matplotlib/mpl-data/stylelib/_classic_test_patch.mplstyle.\n",
      "You probably need to get an updated matplotlibrc file from\n",
      "https://github.com/matplotlib/matplotlib/blob/v3.1.3/matplotlibrc.template\n",
      "or from the matplotlib source distribution\n"
     ]
    }
   ],
   "source": [
    "from fuzzy_system import FuzzyVariableInput, FuzzyVariableOutput, FuzzySystem"
   ]
  },
  {
   "cell_type": "markdown",
   "metadata": {
    "collapsed": false
   },
   "source": [
    "This example is constructed to control speed of fan according to the environment's temperature and humidity.\n",
    "\n",
    "![](figures/1*NIUbpQp93_OFBKM_dYJQvg.jpeg)"
   ]
  },
  {
   "cell_type": "markdown",
   "metadata": {
    "collapsed": false
   },
   "source": [
    "The first step in the design of our system is to define fuzzy sets to describe the input and output variables. There are three fuzzy sets:\n",
    "\n",
    "> Temperature: Cold, Medium, Hot\n",
    ">\n",
    "> Humidity: Dry, Normal, Wet\n",
    ">\n",
    "> Fan speed: Slow, Moderate, Fast\n",
    "\n",
    "The diagram below shows a graphical representation of the input and output variables of our system and their respective sets.\n",
    "\n",
    "![](figures/1*QgzU5OF0uGucga5d1nzdig.jpeg)"
   ]
  },
  {
   "cell_type": "markdown",
   "metadata": {
    "collapsed": false
   },
   "source": [
    "The first step in the design of our system is to define fuzzy sets to describe the input and output variables."
   ]
  },
  {
   "cell_type": "code",
   "execution_count": 2,
   "metadata": {
    "collapsed": false,
    "pycharm": {
     "name": "#%%\n"
    }
   },
   "outputs": [
    {
     "data": {
      "text/plain": [
       "<fuzzy_system.fuzzy_set.FuzzySet at 0x7fa067b784e0>"
      ]
     },
     "execution_count": 2,
     "metadata": {},
     "output_type": "execute_result"
    }
   ],
   "source": [
    "# Define the temperature variable with its fuzzy set\n",
    "temp = FuzzyVariableInput('Temperature', 10, 40, 100)\n",
    "temp.add_triangular('Cold', 10, 10, 25)\n",
    "temp.add_triangular('Medium', 15, 25, 35)\n",
    "temp.add_triangular('Hot', 25, 40, 40)"
   ]
  },
  {
   "cell_type": "code",
   "execution_count": 3,
   "metadata": {
    "collapsed": false,
    "pycharm": {
     "name": "#%%\n"
    }
   },
   "outputs": [
    {
     "data": {
      "text/plain": [
       "<fuzzy_system.fuzzy_set.FuzzySet at 0x7fa067b789e8>"
      ]
     },
     "execution_count": 3,
     "metadata": {},
     "output_type": "execute_result"
    }
   ],
   "source": [
    "# TODO: Based on the above graphical representation, please define the Humidity variable and its fuzzy set as the input variable\n",
    "# Write the code below\n",
    "humidity = FuzzyVariableInput('Humidity', 20, 100, 100)\n",
    "humidity.add_triangular('Dry', 20, 20, 60)\n",
    "humidity.add_trapezoidal('Normal', 30, 60, 75, 90)\n",
    "humidity.add_triangular('Wet', 60, 100, 100)"
   ]
  },
  {
   "cell_type": "code",
   "execution_count": 4,
   "metadata": {
    "collapsed": false,
    "pycharm": {
     "name": "#%%\n"
    }
   },
   "outputs": [
    {
     "data": {
      "text/plain": [
       "<fuzzy_system.fuzzy_set.FuzzySet at 0x7fa067b78d68>"
      ]
     },
     "execution_count": 4,
     "metadata": {},
     "output_type": "execute_result"
    }
   ],
   "source": [
    "# TODO: Based on the above graphical representation, please define the Speed variable and its fuzzy set as the output variable\n",
    "# Write the code below\n",
    "motor_speed = FuzzyVariableOutput('Motor Speed', 0, 100, 100)\n",
    "motor_speed.add_triangular('Slow', 0, 0, 50)\n",
    "motor_speed.add_triangular('Moderate', 10, 50 ,90)\n",
    "motor_speed.add_triangular('Fast', 50,100, 100)"
   ]
  },
  {
   "cell_type": "markdown",
   "metadata": {
    "collapsed": false
   },
   "source": [
    "Then we construct a fuzzy system, and add defined variables to it."
   ]
  },
  {
   "cell_type": "code",
   "execution_count": 5,
   "metadata": {
    "collapsed": false,
    "pycharm": {
     "name": "#%%\n"
    }
   },
   "outputs": [],
   "source": [
    "system = FuzzySystem()\n",
    "system.add_input_variable(temp)\n",
    "system.add_input_variable(humidity)\n",
    "system.add_output_variable(motor_speed)"
   ]
  },
  {
   "cell_type": "markdown",
   "metadata": {
    "collapsed": false
   },
   "source": [
    "The next step is to define the rules. A total of nine rules are used to describe the knowledge necessary to operate our fan controller:\n",
    "\n",
    "> IF Temperature is Cold and Humidity is Dry THEN Fan Speed is Slow\n",
    ">\n",
    "> IF Temperature is Medium and Humidity is Dry THEN Fan Speed is Slow\n",
    ">\n",
    "> IF Temperature is Cold and Humidity is Normal THEN Fan Speed is Slow\n",
    ">\n",
    "> IF Temperature is Hot and Humidity is Dry THEN Fan Speed is Moderate\n",
    ">\n",
    "> IF Temperature is Medium and Humidity is Normal THEN Fan Speed is Moderate\n",
    ">\n",
    "> IF Temperature is Cold and Humidity is Wet THEN Fan Speed is Moderate\n",
    ">\n",
    "> IF Temperature is Hot and Humidity is Normal THEN Fan Speed is Fast\n",
    ">\n",
    "> IF Temperature is Hot and Humidity is Wet THEN Fan Speed is Fast\n",
    ">\n",
    "> IF Temperature is Medium and Humidity is Wet THEN Fan Speed is Fast\n",
    "\n"
   ]
  },
  {
   "cell_type": "code",
   "execution_count": 6,
   "metadata": {
    "collapsed": false,
    "pycharm": {
     "name": "#%%\n"
    }
   },
   "outputs": [],
   "source": [
    "system.add_rule(antecedent_clauses={temp:temp.get_set('Cold'),humidity:humidity.get_set('Dry')},\n",
    "                consequent_clauses={motor_speed:motor_speed.get_set('Slow')})\n",
    "# TODO: Write the remaining rules and add to the system\n",
    "# Write your code below\n",
    "system.add_rule(antecedent_clauses={temp:temp.get_set('Medium'),humidity:humidity.get_set('Dry')},\n",
    "                consequent_clauses={motor_speed:motor_speed.get_set('Slow')})\n",
    "\n",
    "system.add_rule(antecedent_clauses={temp:temp.get_set('Cold'),humidity:humidity.get_set('Normal')},\n",
    "                consequent_clauses={motor_speed:motor_speed.get_set('Slow')})\n",
    "\n",
    "system.add_rule(antecedent_clauses={temp:temp.get_set('Hot'),humidity:humidity.get_set('Dry')},\n",
    "                consequent_clauses={motor_speed:motor_speed.get_set('Moderate')})\n",
    "\n",
    "system.add_rule(antecedent_clauses={temp:temp.get_set('Medium'),humidity:humidity.get_set('Normal')},\n",
    "                consequent_clauses={motor_speed:motor_speed.get_set('Moderate')})\n",
    "\n",
    "system.add_rule(antecedent_clauses={temp:temp.get_set('Cold'),humidity:humidity.get_set('Wet')},\n",
    "                consequent_clauses={motor_speed:motor_speed.get_set('Fast')})\n",
    "\n",
    "system.add_rule(antecedent_clauses={temp:temp.get_set('Hot'),humidity:humidity.get_set('Normal')},\n",
    "                consequent_clauses={motor_speed:motor_speed.get_set('Fast')})\n",
    "\n",
    "system.add_rule(antecedent_clauses={temp:temp.get_set('Medium'),humidity:humidity.get_set('Wet')},\n",
    "                consequent_clauses={motor_speed:motor_speed.get_set('Fast')})"
   ]
  },
  {
   "cell_type": "markdown",
   "metadata": {
    "collapsed": false
   },
   "source": []
  },
  {
   "cell_type": "markdown",
   "metadata": {
    "collapsed": false
   },
   "source": [
    "Inference a example. The output should be 37.2465"
   ]
  },
  {
   "cell_type": "code",
   "execution_count": 7,
   "metadata": {
    "collapsed": false,
    "pycharm": {
     "name": "#%%\n"
    }
   },
   "outputs": [
    {
     "data": {
      "text/plain": [
       "{'Motor Speed': 37.24647662394699}"
      ]
     },
     "execution_count": 7,
     "metadata": {},
     "output_type": "execute_result"
    }
   ],
   "source": [
    "output = system.evaluate_output(input_values={'Temperature':18, 'Humidity':60})\n",
    "output"
   ]
  },
  {
   "cell_type": "code",
   "execution_count": 8,
   "metadata": {
    "collapsed": false,
    "pycharm": {
     "name": "#%%\n"
    }
   },
   "outputs": [
    {
     "data": {
      "image/png": "[encoded data removed]",
      "text/plain": [
       "<Figure size 432x288 with 3 Axes>"
      ]
     },
     "metadata": {
      "needs_background": "light"
     },
     "output_type": "display_data"
    }
   ],
   "source": [
    "# print system\n",
    "system.plot_system()"
   ]
  },
  {
   "cell_type": "markdown",
   "metadata": {
    "collapsed": false
   },
   "source": []
  }
 ],
 "metadata": {
  "kernelspec": {
   "display_name": "Python 3 (ipykernel)",
   "language": "python",
   "name": "python3"
  },
  "language_info": {
   "codemirror_mode": {
    "name": "ipython",
    "version": 3
   },
   "file_extension": ".py",
   "mimetype": "text/x-python",
   "name": "python",
   "nbconvert_exporter": "python",
   "pygments_lexer": "ipython3",
   "version": "3.7.3"
  }
 },
 "nbformat": 4,
 "nbformat_minor": 1
}
